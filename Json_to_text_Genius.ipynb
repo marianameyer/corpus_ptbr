{
  "nbformat": 4,
  "nbformat_minor": 0,
  "metadata": {
    "colab": {
      "provenance": [],
      "authorship_tag": "ABX9TyNHUoHlQPE/q/SWrwr8NiWV",
      "include_colab_link": true
    },
    "kernelspec": {
      "name": "python3",
      "display_name": "Python 3"
    },
    "language_info": {
      "name": "python"
    }
  },
  "cells": [
    {
      "cell_type": "markdown",
      "metadata": {
        "id": "view-in-github",
        "colab_type": "text"
      },
      "source": [
        "<a href=\"https://colab.research.google.com/github/jsansao/corpus_ptbr/blob/main/Json_to_text_Genius.ipynb\" target=\"_parent\"><img src=\"https://colab.research.google.com/assets/colab-badge.svg\" alt=\"Open In Colab\"/></a>"
      ]
    },
    {
      "cell_type": "code",
      "execution_count": 1,
      "metadata": {
        "colab": {
          "base_uri": "https://localhost:8080/"
        },
        "id": "XhbPMWFsyrFH",
        "outputId": "989f3bd8-f1cb-4d87-e096-26695f885181"
      },
      "outputs": [
        {
          "output_type": "stream",
          "name": "stdout",
          "text": [
            "--2022-09-24 18:39:28--  https://raw.githubusercontent.com/jsansao/corpus_ptbr/main/Lyrics_ChicoBuarque.json\n",
            "Resolving raw.githubusercontent.com (raw.githubusercontent.com)... 185.199.111.133, 185.199.109.133, 185.199.108.133, ...\n",
            "Connecting to raw.githubusercontent.com (raw.githubusercontent.com)|185.199.111.133|:443... connected.\n",
            "HTTP request sent, awaiting response... 200 OK\n",
            "Length: 3885407 (3.7M) [text/plain]\n",
            "Saving to: ‘/tmp/chico.json’\n",
            "\n",
            "/tmp/chico.json     100%[===================>]   3.71M  --.-KB/s    in 0.07s   \n",
            "\n",
            "2022-09-24 18:39:28 (50.1 MB/s) - ‘/tmp/chico.json’ saved [3885407/3885407]\n",
            "\n"
          ]
        }
      ],
      "source": [
        "\n",
        "\n",
        "!wget --no-check-certificate \\\n",
        "    https://raw.githubusercontent.com/jsansao/corpus_ptbr/main/Lyrics_ChicoBuarque.json \\\n",
        "    -O /tmp/chico.json\n",
        "  \n",
        "import json\n",
        "\n",
        "with open(\"/tmp/chico.json\", 'r') as f:\n",
        "    datastore = json.load(f)"
      ]
    },
    {
      "cell_type": "code",
      "source": [
        "Musicas = datastore['songs']\n",
        "sentences = [] \n",
        "for item in Musicas:\n",
        "  sentences.append(item['lyrics'].replace(''))"
      ],
      "metadata": {
        "id": "mmygOMj21FGB"
      },
      "execution_count": 37,
      "outputs": []
    },
    {
      "cell_type": "code",
      "source": [
        "print(type(sentences))"
      ],
      "metadata": {
        "colab": {
          "base_uri": "https://localhost:8080/"
        },
        "id": "DgP_bP5238yu",
        "outputId": "c7c6c9bc-35ee-450d-f90f-c0896eb3a322"
      },
      "execution_count": 38,
      "outputs": [
        {
          "output_type": "stream",
          "name": "stdout",
          "text": [
            "<class 'list'>\n"
          ]
        }
      ]
    },
    {
      "cell_type": "code",
      "source": [
        " f = open(\"chico.txt\", \"w\")\n",
        " "
      ],
      "metadata": {
        "id": "y3_kiR176_RL"
      },
      "execution_count": 57,
      "outputs": []
    },
    {
      "cell_type": "code",
      "source": [
        "for item in sentences:\n",
        "  f.write(\"\\n\")\n",
        "  f.write(item.replace(\"You might also like\", \" \").replace(\"Embed\",\"\").replace(\"Lyrics\", \"\"))\n",
        "f.close()"
      ],
      "metadata": {
        "id": "vm8eP76f4axe"
      },
      "execution_count": 58,
      "outputs": []
    }
  ]
}